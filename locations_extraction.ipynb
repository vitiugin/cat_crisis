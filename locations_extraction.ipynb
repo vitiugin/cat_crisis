{
 "cells": [
  {
   "cell_type": "code",
   "execution_count": null,
   "metadata": {},
   "outputs": [],
   "source": [
    "import json\n",
    "\n",
    "# load labelled data from file\n",
    "data = []\n",
    "with open('/data/labelled_data_fr.json', 'r') as input_file: # file with data\n",
    "    for line in input_file:\n",
    "        input_data.append(line) "
   ]
  },
  {
   "cell_type": "code",
   "execution_count": null,
   "metadata": {},
   "outputs": [],
   "source": [
    "#!python -m spacy download en_core_web_sm — command for downloading language model\n",
    "\n",
    "import spacy\n",
    "from spacy import displacy\n",
    "from collections import Counter\n",
    "import en_core_web_sm # English language model\n",
    "nlp = en_core_web_sm.load()"
   ]
  },
  {
   "cell_type": "code",
   "execution_count": null,
   "metadata": {},
   "outputs": [],
   "source": [
    "locations = []\n",
    "\n",
    "import re\n",
    "for row in data:\n",
    "    row = json.loads(row)['text']\n",
    "    row = re.sub('((www\\.[\\s]+)|(https?://[^\\s]+))', 'URL', row) # URL\n",
    "    row = re.sub('\\_', ' ', row) # _\n",
    "    row = re.sub('\\!', '', row) # !\n",
    "    row = re.sub('\\?', '', row) # ?\n",
    "    row = re.sub('RT ', '', row) # RT\n",
    "    row = re.sub('@[A-Za-z0-9]+', ' ', row) # mentions\n",
    "    row = re.sub('\\W', ' ', row) # symbols\n",
    "    row = re.sub('\\_', ' ', row) # _\n",
    "    row = re.sub('[\\s]+', ' ', row) # spaces\n",
    "    doc = nlp(row)\n",
    "    for X in doc.ents:\n",
    "        if X.label_ == 'GPE':\n",
    "            locations.append(X.text)\n",
    "\n",
    "print(locations) # list of all location entities in dataset"
   ]
  },
  {
   "cell_type": "code",
   "execution_count": null,
   "metadata": {},
   "outputs": [],
   "source": [
    "original_locations = []\n",
    "\n",
    "for l in locations:\n",
    "    if l not in original_locations:\n",
    "        original_locations.append(l)\n",
    "\n",
    "print(original_locations) # list of unique locations in dataset"
   ]
  }
 ],
 "metadata": {
  "kernelspec": {
   "display_name": "Python 3",
   "language": "python",
   "name": "python3"
  },
  "language_info": {
   "codemirror_mode": {
    "name": "ipython",
    "version": 3
   },
   "file_extension": ".py",
   "mimetype": "text/x-python",
   "name": "python",
   "nbconvert_exporter": "python",
   "pygments_lexer": "ipython3",
   "version": "3.7.2"
  }
 },
 "nbformat": 4,
 "nbformat_minor": 2
}
