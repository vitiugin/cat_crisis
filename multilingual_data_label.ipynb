{
 "cells": [
  {
   "cell_type": "code",
   "execution_count": null,
   "metadata": {},
   "outputs": [],
   "source": [
    "import json\n",
    "from googletrans import Translator #import google translator library\n",
    "translator = Translator()\n",
    "\n",
    "def binary_label(tweet, param):\n",
    "    x = input()\n",
    "    if x == '1' or x == '0':\n",
    "        tweet[param] = x\n",
    "        output_file.write(json.dumps(tweet, ensure_ascii=False))\n",
    "        output_file.write(\"\\n\")\n",
    "    else:\n",
    "        print('ERROR. This tweet not recorded.')"
   ]
  },
  {
   "cell_type": "code",
   "execution_count": null,
   "metadata": {},
   "outputs": [],
   "source": [
    "lang = 'fr' # parameter for language of the data\n",
    "\n",
    "# store data from file in the list\n",
    "input_data = []\n",
    "with open('/data/data_fr.json', 'r') as input_file: # file with data\n",
    "    for line in input_file:\n",
    "        input_data.append(line)        "
   ]
  },
  {
   "cell_type": "code",
   "execution_count": null,
   "metadata": {},
   "outputs": [],
   "source": [
    "with open('/data/labelled_data_fr.json', 'w') as output_file: # file for labelled data data\n",
    "    for line in input_data:\n",
    "        try:\n",
    "            try:\n",
    "                print(translator.translate(json.loads(line)['full_text']).text) #print translated tweet\n",
    "                binary_label(json.loads(line), 'crisis_label')\n",
    "            except:\n",
    "                print(translator.translate(json.loads(line)['text']).text) #print translated tweet\n",
    "                binary_label(json.loads(line), 'crisis_label')\n",
    "        except:\n",
    "            continue"
   ]
  }
 ],
 "metadata": {
  "kernelspec": {
   "display_name": "drs",
   "language": "python",
   "name": "drs"
  },
  "language_info": {
   "codemirror_mode": {
    "name": "ipython",
    "version": 3
   },
   "file_extension": ".py",
   "mimetype": "text/x-python",
   "name": "python",
   "nbconvert_exporter": "python",
   "pygments_lexer": "ipython3",
   "version": "3.7.2"
  }
 },
 "nbformat": 4,
 "nbformat_minor": 2
}
